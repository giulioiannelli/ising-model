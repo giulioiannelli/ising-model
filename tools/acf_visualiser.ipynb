{
 "cells": [
  {
   "cell_type": "code",
   "execution_count": 27,
   "metadata": {},
   "outputs": [
    {
     "name": "stdout",
     "output_type": "stream",
     "text": [
      "current working dir: /home/giulio/PhD/projects/ising-model\n"
     ]
    }
   ],
   "source": [
    "import numpy as np\n",
    "import pandas as pd\n",
    "import matplotlib.pyplot as plt\n",
    "import matplotlib.colors as mpc\n",
    "\n",
    "from os.path import exists\n",
    "#\n",
    "if not exists(\".isparent\"):\n",
    "    %cd -q ../\n",
    "! echo \"current working dir:\" $(pwd)"
   ]
  },
  {
   "cell_type": "code",
   "execution_count": 28,
   "metadata": {},
   "outputs": [
    {
     "data": {
      "text/html": [
       "<div>\n",
       "<style scoped>\n",
       "    .dataframe tbody tr th:only-of-type {\n",
       "        vertical-align: middle;\n",
       "    }\n",
       "\n",
       "    .dataframe tbody tr th {\n",
       "        vertical-align: top;\n",
       "    }\n",
       "\n",
       "    .dataframe thead th {\n",
       "        text-align: right;\n",
       "    }\n",
       "</style>\n",
       "<table border=\"1\" class=\"dataframe\">\n",
       "  <thead>\n",
       "    <tr style=\"text-align: right;\">\n",
       "      <th></th>\n",
       "      <th>tMC</th>\n",
       "      <th>N_M</th>\n",
       "      <th>_m_sav</th>\n",
       "      <th>Navg</th>\n",
       "      <th>L1</th>\n",
       "      <th>L2</th>\n",
       "      <th>Ls</th>\n",
       "      <th>b_m</th>\n",
       "      <th>b_M</th>\n",
       "      <th>b_s</th>\n",
       "      <th>_m_init</th>\n",
       "      <th>_m_upd</th>\n",
       "      <th>_m_mea</th>\n",
       "    </tr>\n",
       "  </thead>\n",
       "  <tbody>\n",
       "    <tr>\n",
       "      <th>0</th>\n",
       "      <td>1</td>\n",
       "      <td>50000</td>\n",
       "      <td>0</td>\n",
       "      <td>50</td>\n",
       "      <td>10</td>\n",
       "      <td>10</td>\n",
       "      <td>20</td>\n",
       "      <td>0.01</td>\n",
       "      <td>0.5</td>\n",
       "      <td>0.02</td>\n",
       "      <td>cs_unif</td>\n",
       "      <td>algo_metro</td>\n",
       "      <td>1</td>\n",
       "    </tr>\n",
       "  </tbody>\n",
       "</table>\n",
       "</div>"
      ],
      "text/plain": [
       "   tMC    N_M  _m_sav  Navg  L1  L2  Ls   b_m  b_M   b_s  _m_init      _m_upd  \\\n",
       "0    1  50000       0    50  10  10  20  0.01  0.5  0.02  cs_unif  algo_metro   \n",
       "\n",
       "   _m_mea  \n",
       "0       1  "
      ]
     },
     "execution_count": 28,
     "metadata": {},
     "output_type": "execute_result"
    }
   ],
   "source": [
    "pthconfig = \"res/config/.config_acf_compute\"\n",
    "df = pd.read_csv(pthconfig)\n",
    "df"
   ]
  },
  {
   "cell_type": "code",
   "execution_count": 29,
   "metadata": {},
   "outputs": [],
   "source": [
    "L1, L2 = df['L1'][0], df['L2'][0];\n",
    "N = L1 * L2\n",
    "Nlst = []\n",
    "while (N <= df['N_M'][0]):\n",
    "    Nlst.append(N)\n",
    "    L1 += df['Ls'][0]\n",
    "    L2 += df['Ls'][0]\n",
    "    N = L1 * L2;\n",
    "betalst = np.arange(df['b_m'][0], df['b_M'][0], df['b_s'][0])\n",
    "#\n",
    "color = plt.cm.rainbow(np.linspace(0, 1, len(Nlst)))\n",
    "norm = mpc.Normalize(vmin=min(betalst), vmax=max(betalst))\n",
    "cmap = plt.cm.gist_rainbow_r"
   ]
  },
  {
   "cell_type": "code",
   "execution_count": 11,
   "metadata": {},
   "outputs": [
    {
     "data": {
      "text/plain": [
       "[100, 900, 2500, 4900, 8100, 12100, 16900, 22500, 28900, 36100, 44100]"
      ]
     },
     "execution_count": 11,
     "metadata": {},
     "output_type": "execute_result"
    }
   ],
   "source": [
    "Nlst"
   ]
  },
  {
   "cell_type": "code",
   "execution_count": 25,
   "metadata": {},
   "outputs": [
    {
     "ename": "FileNotFoundError",
     "evalue": "[Errno 2] No such file or directory: 'res/obs/N=36100/bt=0.01/tauint_avg=50.bin'",
     "output_type": "error",
     "traceback": [
      "\u001b[0;31m---------------------------------------------------------------------------\u001b[0m",
      "\u001b[0;31mFileNotFoundError\u001b[0m                         Traceback (most recent call last)",
      "\u001b[0;32m/tmp/ipykernel_614368/413455344.py\u001b[0m in \u001b[0;36m<module>\u001b[0;34m\u001b[0m\n\u001b[1;32m      4\u001b[0m \u001b[0;32mfor\u001b[0m \u001b[0mbeta\u001b[0m \u001b[0;32min\u001b[0m \u001b[0mbetalst\u001b[0m\u001b[0;34m:\u001b[0m\u001b[0;34m\u001b[0m\u001b[0;34m\u001b[0m\u001b[0m\n\u001b[1;32m      5\u001b[0m     \u001b[0mpth\u001b[0m \u001b[0;34m=\u001b[0m \u001b[0;34mf\"res/obs/N={N:d}/bt={beta:.2g}/tauint_avg=50.bin\"\u001b[0m\u001b[0;34m\u001b[0m\u001b[0;34m\u001b[0m\u001b[0m\n\u001b[0;32m----> 6\u001b[0;31m     \u001b[0mtauint\u001b[0m\u001b[0;34m.\u001b[0m\u001b[0mappend\u001b[0m\u001b[0;34m(\u001b[0m\u001b[0;34m[\u001b[0m\u001b[0;36m1\u001b[0m\u001b[0;34m/\u001b[0m\u001b[0mbeta\u001b[0m\u001b[0;34m,\u001b[0m \u001b[0mnp\u001b[0m\u001b[0;34m.\u001b[0m\u001b[0mfromfile\u001b[0m\u001b[0;34m(\u001b[0m\u001b[0mpth\u001b[0m\u001b[0;34m,\u001b[0m \u001b[0mdtype\u001b[0m\u001b[0;34m=\u001b[0m\u001b[0mnp\u001b[0m\u001b[0;34m.\u001b[0m\u001b[0mdouble\u001b[0m\u001b[0;34m)\u001b[0m\u001b[0;34m[\u001b[0m\u001b[0;36m0\u001b[0m\u001b[0;34m]\u001b[0m\u001b[0;34m]\u001b[0m\u001b[0;34m)\u001b[0m\u001b[0;34m\u001b[0m\u001b[0;34m\u001b[0m\u001b[0m\n\u001b[0m\u001b[1;32m      7\u001b[0m     \u001b[0mpth\u001b[0m \u001b[0;34m=\u001b[0m \u001b[0;34mf\"res/obs/N={N:d}/bt={beta:.2g}/ACF_avg={df['Navg'][0]:d}.bin\"\u001b[0m\u001b[0;34m\u001b[0m\u001b[0;34m\u001b[0m\u001b[0m\n\u001b[1;32m      8\u001b[0m     \u001b[0macf\u001b[0m \u001b[0;34m=\u001b[0m \u001b[0mnp\u001b[0m\u001b[0;34m.\u001b[0m\u001b[0mfromfile\u001b[0m\u001b[0;34m(\u001b[0m\u001b[0mpth\u001b[0m\u001b[0;34m,\u001b[0m \u001b[0mdtype\u001b[0m\u001b[0;34m=\u001b[0m\u001b[0mnp\u001b[0m\u001b[0;34m.\u001b[0m\u001b[0mdouble\u001b[0m\u001b[0;34m)\u001b[0m\u001b[0;34m\u001b[0m\u001b[0;34m\u001b[0m\u001b[0m\n",
      "\u001b[0;31mFileNotFoundError\u001b[0m: [Errno 2] No such file or directory: 'res/obs/N=36100/bt=0.01/tauint_avg=50.bin'"
     ]
    }
   ],
   "source": [
    "N = 36100\n",
    "m = plt.cm.ScalarMappable(norm=norm, cmap=cmap)\n",
    "tauint = []\n",
    "for beta in betalst:\n",
    "    pth = f\"res/obs/N={N:d}/bt={beta:.2g}/tauint_avg=50.bin\"\n",
    "    tauint.append([1/beta, np.fromfile(pth, dtype=np.double)[0]])\n",
    "    pth = f\"res/obs/N={N:d}/bt={beta:.2g}/ACF_avg={df['Navg'][0]:d}.bin\"\n",
    "    acf = np.fromfile(pth, dtype=np.double)\n",
    "    plt.plot(acf[1:100], '-', color=m.to_rgba(beta), label=fr\"beta={beta:.3g}\")\n",
    "# plt.xlim(0, 100)\n",
    "# plt.ylim()\n",
    "plt.figure(figsize=10)\n",
    "handles, labels = plt.gca().get_legend_handles_labels()\n",
    "newLabels, newHandles = [], []\n",
    "for handle, label in zip(handles, labels):\n",
    "  if label not in newLabels:\n",
    "    newLabels.append(label)\n",
    "    newHandles.append(handle)\n",
    "plt.legend(newHandles, newLabels, bbox_to_anchor=(1.0, 1.05))"
   ]
  },
  {
   "cell_type": "code",
   "execution_count": 16,
   "metadata": {},
   "outputs": [
    {
     "data": {
      "text/plain": [
       "<matplotlib.legend.Legend at 0x7f59d7bcb880>"
      ]
     },
     "execution_count": 16,
     "metadata": {},
     "output_type": "execute_result"
    },
    {
     "data": {
      "image/png": "[encoded data removed]",
      "text/plain": [
       "<Figure size 432x288 with 1 Axes>"
      ]
     },
     "metadata": {
      "needs_background": "light"
     },
     "output_type": "display_data"
    }
   ],
   "source": [
    "\n",
    "m = plt.cm.ScalarMappable(norm=norm, cmap=cmap)\n",
    "for N in [36100]:\n",
    "    for beta in betalst[2:]:\n",
    "        try:\n",
    "            pth = f\"res/obs/N={N:d}/bt={beta:.2g}/ACF_avg={df['Navg'][0]:d}.bin\"\n",
    "            acf = np.fromfile(pth, dtype=np.double)\n",
    "            midx = np.argmax(acf<1/np.exp(1))\n",
    "            x = np.linspace(1, midx, num=midx)\n",
    "            plt.plot(x[1:], acf[1:midx], '-', color=m.to_rgba(beta), label=fr\"beta={beta:.3g}\")\n",
    "        except:\n",
    "            pass\n",
    "handles, labels = plt.gca().get_legend_handles_labels()\n",
    "newLabels, newHandles = [], []\n",
    "for handle, label in zip(handles, labels):\n",
    "  if label not in newLabels:\n",
    "    newLabels.append(label)\n",
    "    newHandles.append(handle)\n",
    "plt.legend(newHandles, newLabels, bbox_to_anchor=(1.0, 1.05))\n",
    "# plt.yscale(\"log\")\n",
    "# plt.xscale(\"log\")\n",
    "# plt.legend()\n",
    "# plt.xlim(0, 100)"
   ]
  },
  {
   "cell_type": "code",
   "execution_count": 13,
   "metadata": {},
   "outputs": [
    {
     "data": {
      "text/plain": [
       "[100, 400, 900, 1600, 2500, 3600, 4900, 6400, 8100, 10000]"
      ]
     },
     "execution_count": 13,
     "metadata": {},
     "output_type": "execute_result"
    }
   ],
   "source": [
    "Nlst"
   ]
  },
  {
   "cell_type": "code",
   "execution_count": null,
   "metadata": {},
   "outputs": [],
   "source": []
  }
 ],
 "metadata": {
  "kernelspec": {
   "display_name": "Python 3.9.7 ('base')",
   "language": "python",
   "name": "python3"
  },
  "language_info": {
   "codemirror_mode": {
    "name": "ipython",
    "version": 3
   },
   "file_extension": ".py",
   "mimetype": "text/x-python",
   "name": "python",
   "nbconvert_exporter": "python",
   "pygments_lexer": "ipython3",
   "version": "3.9.7"
  },
  "orig_nbformat": 4,
  "vscode": {
   "interpreter": {
    "hash": "e80829275f8cb0886f377e6f167baf801c590fec65bce7442de413bab1e1103f"
   }
  }
 },
 "nbformat": 4,
 "nbformat_minor": 2
}
