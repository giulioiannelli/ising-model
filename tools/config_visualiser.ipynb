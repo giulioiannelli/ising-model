{
 "cells": [
  {
   "cell_type": "code",
   "execution_count": 2,
   "metadata": {},
   "outputs": [
    {
     "name": "stdout",
     "output_type": "stream",
     "text": [
      "current working dir: /home/opisthofulax/PhD/projects/ising-model\n"
     ]
    }
   ],
   "source": [
    "import numpy as np\n",
    "import pandas as pd\n",
    "import matplotlib.pyplot as plt\n",
    "import matplotlib.colors as mpc\n",
    "\n",
    "from os.path import exists\n",
    "#\n",
    "if not exists(\".isparent\"):\n",
    "    %cd -q ../\n",
    "! echo \"current working dir:\" $(pwd)"
   ]
  },
  {
   "cell_type": "code",
   "execution_count": 3,
   "metadata": {},
   "outputs": [
    {
     "data": {
      "text/html": [
       "<div>\n",
       "<style scoped>\n",
       "    .dataframe tbody tr th:only-of-type {\n",
       "        vertical-align: middle;\n",
       "    }\n",
       "\n",
       "    .dataframe tbody tr th {\n",
       "        vertical-align: top;\n",
       "    }\n",
       "\n",
       "    .dataframe thead th {\n",
       "        text-align: right;\n",
       "    }\n",
       "</style>\n",
       "<table border=\"1\" class=\"dataframe\">\n",
       "  <thead>\n",
       "    <tr style=\"text-align: right;\">\n",
       "      <th></th>\n",
       "      <th>tMC</th>\n",
       "      <th>N_M</th>\n",
       "      <th>nconf</th>\n",
       "      <th>_m_sav</th>\n",
       "      <th>Navg</th>\n",
       "      <th>L1</th>\n",
       "      <th>L2</th>\n",
       "      <th>Ls</th>\n",
       "      <th>b_m</th>\n",
       "      <th>b_M</th>\n",
       "      <th>b_s</th>\n",
       "      <th>_m_init</th>\n",
       "      <th>_m_upd</th>\n",
       "      <th>_m_mea</th>\n",
       "    </tr>\n",
       "  </thead>\n",
       "  <tbody>\n",
       "    <tr>\n",
       "      <th>0</th>\n",
       "      <td>1</td>\n",
       "      <td>200</td>\n",
       "      <td>3</td>\n",
       "      <td>1</td>\n",
       "      <td>20</td>\n",
       "      <td>10</td>\n",
       "      <td>10</td>\n",
       "      <td>10</td>\n",
       "      <td>0.01</td>\n",
       "      <td>0.44</td>\n",
       "      <td>0.02</td>\n",
       "      <td>hs_unif</td>\n",
       "      <td>algo_metro_a</td>\n",
       "      <td>0</td>\n",
       "    </tr>\n",
       "  </tbody>\n",
       "</table>\n",
       "</div>"
      ],
      "text/plain": [
       "   tMC  N_M  nconf  _m_sav  Navg  L1  L2  Ls   b_m   b_M   b_s  _m_init  \\\n",
       "0    1  200      3       1    20  10  10  10  0.01  0.44  0.02  hs_unif   \n",
       "\n",
       "         _m_upd  _m_mea  \n",
       "0  algo_metro_a       0  "
      ]
     },
     "execution_count": 3,
     "metadata": {},
     "output_type": "execute_result"
    }
   ],
   "source": [
    "pthconfig = \"res/config/.config_acf_test\"\n",
    "df = pd.read_csv(pthconfig)\n",
    "df"
   ]
  },
  {
   "cell_type": "code",
   "execution_count": 4,
   "metadata": {},
   "outputs": [],
   "source": [
    "L1, L2 = df['L1'][0], df['L2'][0];\n",
    "N = L1 * L2\n",
    "Nlst = []\n",
    "while (N <= df['N_M'][0]):\n",
    "    Nlst.append(N)\n",
    "    L1 += df['Ls'][0]\n",
    "    L2 += df['Ls'][0]\n",
    "    N = L1 * L2;\n",
    "L1, L2 = df['L1'][0], df['L2'][0];\n",
    "N = L1 * L2\n",
    "betalst = np.arange(df['b_m'][0], df['b_M'][0], df['b_s'][0])\n",
    "#\n",
    "color = plt.cm.rainbow(np.linspace(0, 1, len(Nlst)))\n",
    "norm = mpc.Normalize(vmin=min(betalst), vmax=max(betalst))\n",
    "cmap = plt.cm.gist_rainbow_r"
   ]
  },
  {
   "cell_type": "code",
   "execution_count": 43,
   "metadata": {},
   "outputs": [],
   "source": [
    "N=100\n",
    "sizepath = f\"N={L1*L2:d}\" if L1 == L2 else f\"L1={L1:d}_L2={L2:d}\"\n",
    "tlist = [t for t in range(0, 300)]\n",
    "pathtoconfig = [f\"res/unconf/N={N:d}-{df['_m_init'][0]}-{df['_m_upd'][0]}/bt={beta:.2g}/SCONF_t={t:d}.bin\"\n",
    "    for beta in [0.19] for t in tlist]"
   ]
  },
  {
   "cell_type": "code",
   "execution_count": 44,
   "metadata": {},
   "outputs": [],
   "source": [
    "config = [np.fromfile(pth, dtype=np.int8).reshape(L1, L2) for pth in pathtoconfig]"
   ]
  },
  {
   "cell_type": "code",
   "execution_count": 47,
   "metadata": {},
   "outputs": [
    {
     "data": {
      "text/plain": [
       "<matplotlib.image.AxesImage at 0x7f571d1f4280>"
      ]
     },
     "execution_count": 47,
     "metadata": {},
     "output_type": "execute_result"
    },
    {
     "data": {
      "image/png": "[encoded data removed]",
      "text/plain": [
       "<Figure size 720x720 with 1 Axes>"
      ]
     },
     "metadata": {
      "needs_background": "light"
     },
     "output_type": "display_data"
    }
   ],
   "source": [
    "plt.figure(figsize=(10, 10))\n",
    "plt.imshow(config[4])"
   ]
  },
  {
   "cell_type": "code",
   "execution_count": 48,
   "metadata": {},
   "outputs": [
    {
     "data": {
      "text/plain": [
       "<matplotlib.image.AxesImage at 0x7f571d23f070>"
      ]
     },
     "execution_count": 48,
     "metadata": {},
     "output_type": "execute_result"
    },
    {
     "data": {
      "image/png": "[encoded data removed]",
      "text/plain": [
       "<Figure size 720x720 with 1 Axes>"
      ]
     },
     "metadata": {
      "needs_background": "light"
     },
     "output_type": "display_data"
    }
   ],
   "source": [
    "plt.figure(figsize=(10, 10))\n",
    "plt.imshow(config[10])"
   ]
  },
  {
   "cell_type": "code",
   "execution_count": 40,
   "metadata": {},
   "outputs": [
    {
     "data": {
      "text/plain": [
       "(array([ 1., 10., 12.,  0., 26., 14.,  0., 28.,  7.,  2.]),\n",
       " array([-8. , -6.6, -5.2, -3.8, -2.4, -1. ,  0.4,  1.8,  3.2,  4.6,  6. ]),\n",
       " <BarContainer object of 10 artists>)"
      ]
     },
     "execution_count": 40,
     "metadata": {},
     "output_type": "execute_result"
    },
    {
     "data": {
      "image/png": "[encoded data removed]",
      "text/plain": [
       "<Figure size 432x288 with 1 Axes>"
      ]
     },
     "metadata": {
      "needs_background": "light"
     },
     "output_type": "display_data"
    }
   ],
   "source": [
    "plt.hist((config[0]@config[0]).flatten())"
   ]
  },
  {
   "cell_type": "code",
   "execution_count": 17,
   "metadata": {},
   "outputs": [
    {
     "data": {
      "text/plain": [
       "<matplotlib.image.AxesImage at 0x7f022d35e4d0>"
      ]
     },
     "execution_count": 17,
     "metadata": {},
     "output_type": "execute_result"
    },
    {
     "data": {
      "image/png": "[encoded data removed]",
      "text/plain": [
       "<Figure size 432x288 with 1 Axes>"
      ]
     },
     "metadata": {
      "needs_background": "light"
     },
     "output_type": "display_data"
    }
   ],
   "source": []
  },
  {
   "cell_type": "code",
   "execution_count": 19,
   "metadata": {},
   "outputs": [
    {
     "data": {
      "text/plain": [
       "array([0.])"
      ]
     },
     "execution_count": 19,
     "metadata": {},
     "output_type": "execute_result"
    }
   ],
   "source": [
    "np.arange(0.0, 1.0, 1)"
   ]
  },
  {
   "cell_type": "code",
   "execution_count": null,
   "metadata": {},
   "outputs": [],
   "source": []
  }
 ],
 "metadata": {
  "kernelspec": {
   "display_name": "Python 3",
   "language": "python",
   "name": "python3"
  },
  "language_info": {
   "codemirror_mode": {
    "name": "ipython",
    "version": 3
   },
   "file_extension": ".py",
   "mimetype": "text/x-python",
   "name": "python",
   "nbconvert_exporter": "python",
   "pygments_lexer": "ipython3",
   "version": "3.10.6"
  },
  "orig_nbformat": 4,
  "vscode": {
   "interpreter": {
    "hash": "916dbcbb3f70747c44a77c7bcd40155683ae19c65e1c03b4aa3499c5328201f1"
   }
  }
 },
 "nbformat": 4,
 "nbformat_minor": 2
}
